{
 "cells": [
  {
   "cell_type": "markdown",
   "source": [
    "## Load GEN"
   ],
   "metadata": {
    "collapsed": false
   },
   "id": "16aca7fa506fb09c"
  },
  {
   "cell_type": "code",
   "execution_count": null,
   "outputs": [],
   "source": [
    "GEN = keras.models.load_model('train_models/Generator.hdf5')"
   ],
   "metadata": {
    "collapsed": false
   },
   "id": "2bca7ba7596b9f3c"
  },
  {
   "cell_type": "markdown",
   "source": [
    "# MODEL CNN"
   ],
   "metadata": {
    "collapsed": false
   },
   "id": "4783976233939047"
  },
  {
   "cell_type": "code",
   "execution_count": null,
   "outputs": [],
   "source": [
    "Classificator.summary()"
   ],
   "metadata": {
    "collapsed": false
   },
   "id": "39455116d27bba4f"
  },
  {
   "cell_type": "markdown",
   "source": [
    "## Fit"
   ],
   "metadata": {
    "collapsed": false
   },
   "id": "844b7c1222fd0280"
  },
  {
   "cell_type": "code",
   "execution_count": null,
   "outputs": [],
   "source": [
    "# CallBack\n",
    "#keras.callbacks.EarlyStopping(patience=5),\n",
    "my_callbacks = [keras.callbacks.ModelCheckpoint(filepath='best_model_CNN.hdf5', save_best_only=True, save_weights_only=True),\n",
    "                tf.keras.callbacks.CSVLogger('log.scv', separator=\",\", append=False)]\n",
    "\n",
    "# Optimizer\n",
    "opt = keras.optimizers.Adam(learning_rate=0.0001)\n",
    "# opt = keras.optimizers.RMSprop(learning_rate=0.0001, decay=1e-6)\n",
    "\n",
    "# Compile\n",
    "Classificator.compile(loss='CategoricalCrossentropy', metrics=['accuracy'], optimizer=opt)"
   ],
   "metadata": {
    "collapsed": false
   },
   "id": "a4499fb5be4e4883"
  },
  {
   "cell_type": "code",
   "execution_count": null,
   "outputs": [],
   "source": [
    "batch_size = 32\n",
    "nb_epochs = 20\n",
    "\n",
    "# Get a train data generator\n",
    "train_data_gen = data_gen(data=train_data, batch_size=batch_size, Aug=seq, add_labels=add_labels)\n",
    "\n",
    "# Define the number of training steps\n",
    "nb_train_steps = 0\n",
    "for i in range(3):\n",
    "    nb_train_steps += (add_labels[i] + 1) * cases_count[i]\n",
    "\n",
    "nb_train_steps //= batch_size\n",
    "print(\"Number of training and validation steps: {} and {}\".format(nb_train_steps, len(valid_data)))"
   ],
   "metadata": {
    "collapsed": false
   },
   "id": "4843313a5ea2dbc0"
  },
  {
   "cell_type": "code",
   "execution_count": null,
   "outputs": [],
   "source": [
    "# # Fit the model\n",
    "\n",
    "history = Classificator.fit(train_data_gen, epochs=nb_epochs, steps_per_epoch=nb_train_steps,\n",
    "                            validation_data=(valid_data, valid_labels), callbacks=my_callbacks)\n",
    "# class_weight={0:2.0, 1:1, 2:2.0}"
   ],
   "metadata": {
    "collapsed": false
   },
   "id": "1784edf451e2d87a"
  },
  {
   "cell_type": "markdown",
   "source": [
    "## Plots of loss and accuracy"
   ],
   "metadata": {
    "collapsed": false
   },
   "id": "cfa3d8bece09fe5"
  },
  {
   "cell_type": "code",
   "execution_count": null,
   "outputs": [],
   "source": [
    "loss = history.history[\"loss\"]\n",
    "val_loss = history.history[\"val_loss\"]\n",
    "epochs = range(1, len(loss) + 1)\n",
    "plt.plot(epochs, loss, \"bo\", label=\"Потери на этапе обучения\")\n",
    "plt.plot(epochs, val_loss, \"b\", label=\"Потери на этапе проверки\")\n",
    "plt.title(\"Потери на этапах обучения и проверки\")\n",
    "plt.xlabel(\"Эпохи\")\n",
    "plt.ylabel(\"Потери\")\n",
    "plt.legend()\n",
    "plt.show()\n",
    "\n",
    "plt.clf()\n",
    "acc = history.history[\"accuracy\"]\n",
    "val_acc = history.history[\"val_accuracy\"]\n",
    "plt.plot(epochs, acc, \"bo\", label=\"Точность на этапе обучения\")\n",
    "plt.plot(epochs, val_acc, \"b\", label=\"Точность на этапе проверки\")\n",
    "plt.title(\"Точность на этапах обучения и проверки\")\n",
    "plt.xlabel(\"Эпохи\")\n",
    "plt.ylabel(\"Точность\")\n",
    "plt.legend()\n",
    "plt.show()"
   ],
   "metadata": {
    "collapsed": false
   },
   "id": "7f106bfe7f4a5374"
  },
  {
   "cell_type": "markdown",
   "source": [
    "# Load the best model"
   ],
   "metadata": {
    "collapsed": false
   },
   "id": "c324361310400808"
  },
  {
   "cell_type": "code",
   "execution_count": null,
   "outputs": [],
   "source": [
    "Classificator.load_weights('best_model.hdf5')"
   ],
   "metadata": {
    "collapsed": false
   },
   "id": "39b5fc08a4b50603"
  },
  {
   "cell_type": "markdown",
   "source": [
    "# Uploading Train"
   ],
   "metadata": {
    "collapsed": false
   },
   "id": "5f04667a1f9da1ff"
  },
  {
   "cell_type": "code",
   "execution_count": null,
   "outputs": [],
   "source": [
    "# increase Test\n",
    "test_data = increase(test_data, add_labels=add_labels)\n",
    "\n",
    "# Preparing test data\n",
    "if 'seq' not in globals():\n",
    "    test_data = map(Conv, test_data['image'].values, test_data['label'].values)\n",
    "else:\n",
    "    test_data_0 = map(Conv, test_data[test_data['add'] == 0]['image'].values,\n",
    "                      test_data[test_data['add'] == 0]['label'].values)\n",
    "\n",
    "    test_data_1 = map(Conv, test_data[test_data['add'] == 1]['image'].values,\n",
    "                      test_data[test_data['add'] == 1]['label'].values)\n",
    "\n",
    "    test_data = list(test_data_0)\n",
    "    for img, label in test_data_1:\n",
    "        test_data.append((seq(image=img)['image'], label))\n",
    "\n",
    "test = []\n",
    "test_labels = []\n",
    "\n",
    "for i, j in test_data:\n",
    "    test.append(i.astype(np.float32)/255.)\n",
    "    test_labels.append(j)\n",
    "\n",
    "# Convert the list into numpy arrays\n",
    "test_data = np.array(test)\n",
    "test_labels = np.array(test_labels)\n",
    "\n",
    "def shuffle(x, y):\n",
    "    p = np.random.permutation(len(y))\n",
    "    return x[p], y[p]\n",
    "\n",
    "test_data, test_labels = shuffle(test_data, test_labels)\n",
    "\n",
    "print(\"Total number of test examples: \", test_data.shape)\n",
    "print(\"Total number of labels:\", test_labels.shape)\n",
    "\n",
    "del test, test_data_0, test_data_1"
   ],
   "metadata": {
    "collapsed": false
   },
   "id": "ff75e96ba6b3d0d6"
  },
  {
   "cell_type": "markdown",
   "source": [
    "# Test model"
   ],
   "metadata": {
    "collapsed": false
   },
   "id": "74cc8247827c155f"
  },
  {
   "cell_type": "code",
   "execution_count": null,
   "outputs": [],
   "source": [
    "# Evaluation on test dataset\n",
    "test_loss, test_score = Classificator.evaluate(test_data, test_labels, batch_size=32)\n",
    "\n",
    "print()\n",
    "\n",
    "x_0 = 0\n",
    "x_1 = 0\n",
    "x_2 = 0\n",
    "for i in range(test_labels.shape[0]):\n",
    "    if test_labels[i][0]:\n",
    "        x_0 += 1\n",
    "    elif test_labels[i][1]:\n",
    "        x_1 += 1\n",
    "    else:\n",
    "        x_2 += 1\n",
    "\n",
    "print(x_0, x_1, x_2, '- EXAMPLES')\n",
    "\n",
    "print()\n",
    "\n",
    "print(\"Loss on test set: \", test_loss)\n",
    "print(\"Accuracy on test set: \", test_score)"
   ],
   "metadata": {
    "collapsed": false
   },
   "id": "b85778c5f8c83dea"
  },
  {
   "cell_type": "code",
   "execution_count": null,
   "outputs": [],
   "source": [
    "# Get predictions\n",
    "preds = Classificator.predict(test_data, batch_size=16)\n",
    "preds = np.argmax(preds, axis=-1)\n",
    "\n",
    "# Original labels\n",
    "orig_test_labels = np.argmax(test_labels, axis=-1)\n",
    "\n",
    "print(orig_test_labels.shape)\n",
    "print(preds.shape)"
   ],
   "metadata": {
    "collapsed": false
   },
   "id": "8a9683580826b8f1"
  },
  {
   "cell_type": "markdown",
   "source": [
    "# ConfusionMatrix and Metrics"
   ],
   "metadata": {
    "collapsed": false
   },
   "id": "ba8c626fbd1fcfe8"
  },
  {
   "cell_type": "code",
   "execution_count": null,
   "outputs": [],
   "source": [
    "cm  = confusion_matrix(y_true=orig_test_labels, y_pred=preds)\n",
    "plt.figure()\n",
    "plot_confusion_matrix(cm,figsize=(12,8), hide_ticks=True,cmap=plt.cm.Blues)\n",
    "plt.xticks(range(3), ['Normal', 'Bacteria', 'Viral'], fontsize=16)\n",
    "plt.yticks(range(3), ['Normal', 'Bacteria', 'Viral'], fontsize=16)\n",
    "plt.show()"
   ],
   "metadata": {
    "collapsed": false
   },
   "id": "48d8825dc9dad8fc"
  },
  {
   "cell_type": "code",
   "execution_count": null,
   "outputs": [],
   "source": [
    "# Calculate error rate \n",
    "accuracy = (cm[0][0] + cm[1][1] + cm[2][2]) / (sum(cm.ravel()))\n",
    "\n",
    "Recall_0 = cm[0][0] / (cm[0][0] + cm[1][0] + cm[2][0])\n",
    "Recall_1 = cm[1][1] / (cm[0][1] + cm[1][1] + cm[2][1])\n",
    "Recall_2 = cm[2][2] / (cm[0][2] + cm[1][2] + cm[2][2])\n",
    "\n",
    "Precision_0 = cm[0][0] / (cm[0][0] + cm[0][1] + cm[0][2])\n",
    "Precision_1 = cm[1][1] / (cm[1][0] + cm[1][1] + cm[1][2])\n",
    "Precision_2 = cm[2][2] / (cm[2][0] + cm[2][1] + cm[2][2])\n",
    "\n",
    "F_0 = 2 / (1 / Precision_0 + 1 / Recall_0)\n",
    "F_1 = 2 / (1 / Precision_1 + 1 / Recall_1)\n",
    "F_2 = 2 / (1 / Precision_2 + 1 / Recall_2)\n",
    "\n",
    "print(\"Accuracy of the Classificator is {:.2f}\".format(accuracy))\n",
    "\n",
    "print()\n",
    "\n",
    "print(\"Recall of the first class is {:.2f}\".format(Recall_0))\n",
    "print(\"Recall of the second class is {:.2f}\".format(Recall_1))\n",
    "print(\"Recall of the third class is {:.2f}\".format(Recall_2))\n",
    "\n",
    "print()\n",
    "\n",
    "print(\"Precision of the first class is {:.2f}\".format(Precision_0))\n",
    "print(\"Precision of the second class is {:.2f}\".format(Precision_1))\n",
    "print(\"Precision of the third class is {:.2f}\".format(Precision_2))\n",
    "\n",
    "print()\n",
    "\n",
    "print(\"F of the first class is {:.2f}\".format(F_0))\n",
    "print(\"F of the second class is {:.2f}\".format(F_1))\n",
    "print(\"F of the third class is {:.2f}\".format(F_2))"
   ],
   "metadata": {
    "collapsed": false
   },
   "id": "b082f67d07c63afd"
  },
  {
   "cell_type": "code",
   "execution_count": null,
   "outputs": [],
   "source": [],
   "metadata": {
    "collapsed": false
   },
   "id": "35232b4dc06a3636"
  }
 ],
 "metadata": {
  "kernelspec": {
   "display_name": "Python 3",
   "language": "python",
   "name": "python3"
  },
  "language_info": {
   "codemirror_mode": {
    "name": "ipython",
    "version": 2
   },
   "file_extension": ".py",
   "mimetype": "text/x-python",
   "name": "python",
   "nbconvert_exporter": "python",
   "pygments_lexer": "ipython2",
   "version": "2.7.6"
  }
 },
 "nbformat": 4,
 "nbformat_minor": 5
}
